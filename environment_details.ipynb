{
 "cells": [
  {
   "cell_type": "markdown",
   "source": [
    "# Environment Details\n",
    "### Observation Space\n",
    "The first two dimension for all environments are\n",
    "the position of the agent's center-mass on the plane.\n",
    "- AntCircle\n",
    "  - Dimension: 113\n",
    "- HumanoidCircle\n",
    "  - Dimension: 378\n",
    "\n",
    "### Action Space\n",
    "- AntCircle\n",
    "  - Dimension: 8\n",
    "  - Scale: [-1, 1]\n",
    "- HumanoidCircle\n",
    "  - Dimension: 17\n",
    "  - Scale: [-0.4, 0.4]\n",
    "  \n",
    "### Reward Function\n",
    "The reward function for all environments is defined as\n",
    "\n",
    "\\begin{equation*}\n",
    "R(s) = \\frac{v_y x - v_x y}{1 + \\left | \\sqrt{x^2+y^2} - r \\right|}\n",
    "\\end{equation*}\n",
    "\n",
    "where $r=10$ is radius of the circle, $(x,y)$ is the position\n",
    "of the Agent on the plane, $v_x$ and $v_y$ are the velocities\n",
    "in the $x$ and $y$ directions respectively. The denominator rewards \n",
    "the agent for being close to the circumference\n",
    "of the circle while the numerator is maximized when the agent's trajectory is\n",
    "circular (i.e the velocity vector is orthogonal to the position vector).\n",
    "\n",
    "### Cost Function\n",
    "The cost function is defined as\n",
    "\\begin{equation*}\n",
    "C(s) = = \\boldsymbol{1}(|x|>x_{\\lim})\n",
    "\\end{equation*}\n",
    "where $x_{\\lim}=3$ for AntCircle and $x_{\\lim}=2.5$ for HumanoidCircle\n",
    "\n",
    "\n",
    "\n",
    "\n"
   ],
   "metadata": {
    "collapsed": false,
    "pycharm": {
     "name": "#%% md\n"
    }
   }
  }
 ],
 "metadata": {
  "kernelspec": {
   "display_name": "Python 3",
   "language": "python",
   "name": "python3"
  },
  "language_info": {
   "codemirror_mode": {
    "name": "ipython",
    "version": 2
   },
   "file_extension": ".py",
   "mimetype": "text/x-python",
   "name": "python",
   "nbconvert_exporter": "python",
   "pygments_lexer": "ipython2",
   "version": "2.7.6"
  },
  "pycharm": {
   "stem_cell": {
    "cell_type": "raw",
    "source": [],
    "metadata": {
     "collapsed": false
    }
   }
  }
 },
 "nbformat": 4,
 "nbformat_minor": 0
}